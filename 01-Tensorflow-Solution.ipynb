{
 "cells": [
  {
   "cell_type": "code",
   "execution_count": 241,
   "metadata": {},
   "outputs": [
    {
     "name": "stderr",
     "output_type": "stream",
     "text": [
      "[nltk_data] Downloading package punkt to /Users/vlsnk/nltk_data...\n",
      "[nltk_data]   Package punkt is already up-to-date!\n"
     ]
    }
   ],
   "source": [
    "from __future__ import absolute_import, print_function, unicode_literals, division\n",
    "import os, sys\n",
    "\n",
    "import warnings\n",
    "warnings.filterwarnings('ignore')\n",
    "\n",
    "import pandas as pd\n",
    "import numpy as np\n",
    "\n",
    "from sklearn.utils import shuffle\n",
    "from sklearn.svm import SVC\n",
    "from sklearn.feature_extraction.text import CountVectorizer\n",
    "from sklearn.pipeline import Pipeline, TransformerMixin\n",
    "from sklearn.base import BaseEstimator\n",
    "\n",
    "from nltk.tokenize import word_tokenize\n",
    "from nltk.stem import PorterStemmer\n",
    "from nltk.stem.snowball import SnowballStemmer\n",
    "nltk.download('punkt')\n",
    "\n",
    "import tensorflow\n",
    "from tensorflow import keras\n",
    "from tensorflow.keras import layers\n",
    "from tensorflow.keras.models import Sequential\n",
    "\n",
    "from keras.preprocessing.text import one_hot\n",
    "from keras.preprocessing.sequence import pad_sequences\n",
    "\n",
    "import tensorflow_datasets as tfds"
   ]
  },
  {
   "cell_type": "code",
   "execution_count": 2,
   "metadata": {},
   "outputs": [
    {
     "data": {
      "text/plain": [
       "['.DS_Store',\n",
       " 'imdbEr.txt',\n",
       " 'test',\n",
       " 'test.csv',\n",
       " 'imdb.vocab',\n",
       " 'README',\n",
       " 'train',\n",
       " 'train.csv']"
      ]
     },
     "execution_count": 2,
     "metadata": {},
     "output_type": "execute_result"
    }
   ],
   "source": [
    "os.listdir('aclImdb')"
   ]
  },
  {
   "cell_type": "code",
   "execution_count": 239,
   "metadata": {},
   "outputs": [
    {
     "data": {
      "text/plain": [
       "601"
      ]
     },
     "execution_count": 239,
     "metadata": {},
     "output_type": "execute_result"
    }
   ],
   "source": [
    "max_length"
   ]
  },
  {
   "cell_type": "code",
   "execution_count": null,
   "metadata": {},
   "outputs": [],
   "source": []
  },
  {
   "cell_type": "markdown",
   "metadata": {},
   "source": [
    "## Load the IMBD Data"
   ]
  },
  {
   "cell_type": "code",
   "execution_count": 112,
   "metadata": {},
   "outputs": [],
   "source": [
    "data_train = pd.DataFrame(columns=['text', 'target'])\n",
    "data_test = pd.DataFrame(columns=['text', 'target'])"
   ]
  },
  {
   "cell_type": "code",
   "execution_count": 113,
   "metadata": {},
   "outputs": [
    {
     "name": "stdout",
     "output_type": "stream",
     "text": [
      "[info] train 'pos' data loaded\n",
      "[info] train 'neg' data loaded\n",
      "[info] test 'pos' data loaded\n",
      "[info] test 'neg' data loaded\n"
     ]
    }
   ],
   "source": [
    "\"\"\"\n",
    "Train data\n",
    "\"\"\"\n",
    "basic_path = os.path.join(*['aclImdb', 'train', 'pos'])\n",
    "for file in os.listdir(basic_path)[:500]:\n",
    "    with open(os.path.join(basic_path, file), 'r') as f:\n",
    "        data_train = data_train.append({\n",
    "            'text': f.read(),\n",
    "            'target': 1\n",
    "        }, ignore_index=True)\n",
    "print('[info] train \\'pos\\' data loaded')\n",
    "        \n",
    "basic_path = os.path.join(*['aclImdb', 'train', 'neg'])\n",
    "for file in os.listdir(basic_path)[:500]:\n",
    "    with open(os.path.join(basic_path, file), 'r') as f:\n",
    "        data_train = data_train.append({\n",
    "            'text': f.read(),\n",
    "            'target': 0\n",
    "        }, ignore_index=True)\n",
    "print('[info] train \\'neg\\' data loaded')\n",
    "\n",
    "\n",
    "\"\"\"\n",
    "Test data\n",
    "\"\"\"       \n",
    "basic_path = os.path.join(*['aclImdb', 'test', 'pos'])\n",
    "for file in os.listdir(basic_path)[:500]:\n",
    "    with open(os.path.join(basic_path, file), 'r') as f:\n",
    "        data_test = data_test.append({\n",
    "            'text': f.read(),\n",
    "            'target': 1\n",
    "        }, ignore_index=True)\n",
    "print('[info] test \\'pos\\' data loaded')\n",
    "\n",
    "basic_path = os.path.join(*['aclImdb', 'test', 'neg'])\n",
    "for file in os.listdir(basic_path)[:500]:\n",
    "    with open(os.path.join(basic_path, file), 'r') as f:\n",
    "        data_test = data_test.append({\n",
    "            'text': f.read(),\n",
    "            'target': 0\n",
    "        }, ignore_index=True)\n",
    "print('[info] test \\'neg\\' data loaded')"
   ]
  },
  {
   "cell_type": "code",
   "execution_count": null,
   "metadata": {},
   "outputs": [],
   "source": []
  },
  {
   "cell_type": "code",
   "execution_count": 114,
   "metadata": {},
   "outputs": [],
   "source": [
    "data_train = shuffle(data_train).reset_index(drop=True)\n",
    "data_test = shuffle(data_test).reset_index(drop=True)\n",
    "\n",
    "data_train.to_csv('aclImdb/train.csv', index=False)\n",
    "data_train.to_csv('aclImdb/test.csv', index=False)"
   ]
  },
  {
   "cell_type": "code",
   "execution_count": 115,
   "metadata": {},
   "outputs": [
    {
     "data": {
      "text/html": [
       "<div>\n",
       "<style scoped>\n",
       "    .dataframe tbody tr th:only-of-type {\n",
       "        vertical-align: middle;\n",
       "    }\n",
       "\n",
       "    .dataframe tbody tr th {\n",
       "        vertical-align: top;\n",
       "    }\n",
       "\n",
       "    .dataframe thead th {\n",
       "        text-align: right;\n",
       "    }\n",
       "</style>\n",
       "<table border=\"1\" class=\"dataframe\">\n",
       "  <thead>\n",
       "    <tr style=\"text-align: right;\">\n",
       "      <th></th>\n",
       "      <th>text</th>\n",
       "      <th>target</th>\n",
       "    </tr>\n",
       "  </thead>\n",
       "  <tbody>\n",
       "    <tr>\n",
       "      <th>0</th>\n",
       "      <td>This is a quirky little movie, and I have to a...</td>\n",
       "      <td>1</td>\n",
       "    </tr>\n",
       "    <tr>\n",
       "      <th>1</th>\n",
       "      <td>Those who only remember the late Sir Peter Ust...</td>\n",
       "      <td>1</td>\n",
       "    </tr>\n",
       "    <tr>\n",
       "      <th>2</th>\n",
       "      <td>We saw this at one of the local art movie thea...</td>\n",
       "      <td>1</td>\n",
       "    </tr>\n",
       "    <tr>\n",
       "      <th>3</th>\n",
       "      <td>THAT'S certainly a strange way to promote a fi...</td>\n",
       "      <td>0</td>\n",
       "    </tr>\n",
       "    <tr>\n",
       "      <th>4</th>\n",
       "      <td>After 'Aakrosh' , this was the second film for...</td>\n",
       "      <td>1</td>\n",
       "    </tr>\n",
       "    <tr>\n",
       "      <th>...</th>\n",
       "      <td>...</td>\n",
       "      <td>...</td>\n",
       "    </tr>\n",
       "    <tr>\n",
       "      <th>995</th>\n",
       "      <td>As a long-standing Barbra fan, any posting lik...</td>\n",
       "      <td>1</td>\n",
       "    </tr>\n",
       "    <tr>\n",
       "      <th>996</th>\n",
       "      <td>I never understood why some people dislike Bol...</td>\n",
       "      <td>0</td>\n",
       "    </tr>\n",
       "    <tr>\n",
       "      <th>997</th>\n",
       "      <td>Hey,&lt;br /&gt;&lt;br /&gt;If your going to make a docume...</td>\n",
       "      <td>0</td>\n",
       "    </tr>\n",
       "    <tr>\n",
       "      <th>998</th>\n",
       "      <td>Proof that not everything Tarantino touches tu...</td>\n",
       "      <td>0</td>\n",
       "    </tr>\n",
       "    <tr>\n",
       "      <th>999</th>\n",
       "      <td>Any film in the early days of Orson Welles is ...</td>\n",
       "      <td>1</td>\n",
       "    </tr>\n",
       "  </tbody>\n",
       "</table>\n",
       "<p>1000 rows × 2 columns</p>\n",
       "</div>"
      ],
      "text/plain": [
       "                                                  text target\n",
       "0    This is a quirky little movie, and I have to a...      1\n",
       "1    Those who only remember the late Sir Peter Ust...      1\n",
       "2    We saw this at one of the local art movie thea...      1\n",
       "3    THAT'S certainly a strange way to promote a fi...      0\n",
       "4    After 'Aakrosh' , this was the second film for...      1\n",
       "..                                                 ...    ...\n",
       "995  As a long-standing Barbra fan, any posting lik...      1\n",
       "996  I never understood why some people dislike Bol...      0\n",
       "997  Hey,<br /><br />If your going to make a docume...      0\n",
       "998  Proof that not everything Tarantino touches tu...      0\n",
       "999  Any film in the early days of Orson Welles is ...      1\n",
       "\n",
       "[1000 rows x 2 columns]"
      ]
     },
     "execution_count": 115,
     "metadata": {},
     "output_type": "execute_result"
    }
   ],
   "source": [
    "data_train"
   ]
  },
  {
   "cell_type": "code",
   "execution_count": null,
   "metadata": {},
   "outputs": [],
   "source": []
  },
  {
   "cell_type": "markdown",
   "metadata": {},
   "source": [
    "## Working with Word Embeddings"
   ]
  },
  {
   "cell_type": "code",
   "execution_count": null,
   "metadata": {},
   "outputs": [],
   "source": []
  },
  {
   "cell_type": "code",
   "execution_count": 153,
   "metadata": {},
   "outputs": [],
   "source": [
    "class TokenizeTransform(BaseEstimator, TransformerMixin):\n",
    "    def fit(self, X, y=None):\n",
    "        return self\n",
    "    \n",
    "    def transform(self, X, y=None):\n",
    "        tokenizer = tfds.features.text.Tokenizer()\n",
    "        X['text'] = X['text'].map(lambda a: [word for word in encoder.tokenize(a) if len(word) >= 3])\n",
    "        return X"
   ]
  },
  {
   "cell_type": "code",
   "execution_count": 168,
   "metadata": {},
   "outputs": [],
   "source": [
    "class SteemerTransform(BaseEstimator, TransformerMixin):\n",
    "    def fit(self, X, y=None):\n",
    "        return self\n",
    "    \n",
    "    def transform(self, X, y=None):\n",
    "        steemer = PorterStemmer()\n",
    "        X['text'] = X['text'].map(lambda a: ' '.join([steemer.stem(word) for word in a]))\n",
    "        return X"
   ]
  },
  {
   "cell_type": "code",
   "execution_count": 344,
   "metadata": {},
   "outputs": [],
   "source": [
    "class VectorizeTransformer(BaseEstimator, TransformerMixin):\n",
    "    def fit(self, X, y=None, vocab_size=100):\n",
    "        self.vocab_size = vocab_size\n",
    "        \n",
    "        return self\n",
    "    \n",
    "    def transform(self, X, y=None):\n",
    "        longest_sentence = lambda a: len(a.split())\n",
    "        roi = max(X['text'], key=longest_sentence)\n",
    "        max_length = len(roi.split())\n",
    "\n",
    "        X['text'] = X['text'].map(lambda a: one_hot(a, 100))\n",
    "        X['text'] = pad_sequences(X['text'], max_length, padding='post').tolist()\n",
    "        \n",
    "        return X"
   ]
  },
  {
   "cell_type": "code",
   "execution_count": null,
   "metadata": {},
   "outputs": [],
   "source": []
  },
  {
   "cell_type": "code",
   "execution_count": 345,
   "metadata": {},
   "outputs": [],
   "source": [
    "pipeline = Pipeline([\n",
    "    ('tokenize', TokenizeTransform()),\n",
    "    ('steem', SteemerTransform()),\n",
    "    ('vectorize', VectorizeTransformer())\n",
    "])"
   ]
  },
  {
   "cell_type": "code",
   "execution_count": null,
   "metadata": {},
   "outputs": [],
   "source": []
  },
  {
   "cell_type": "code",
   "execution_count": 359,
   "metadata": {},
   "outputs": [],
   "source": [
    "X = data_train.iloc[:20].copy()"
   ]
  },
  {
   "cell_type": "code",
   "execution_count": 360,
   "metadata": {},
   "outputs": [],
   "source": [
    "X = pipeline.fit_transform(X)"
   ]
  },
  {
   "cell_type": "code",
   "execution_count": 368,
   "metadata": {},
   "outputs": [],
   "source": [
    "X_train = np.array(X['text'].values.tolist(), dtype=np.int32)\n",
    "y_train = X['target'].values.astype(np.int32)"
   ]
  },
  {
   "cell_type": "code",
   "execution_count": null,
   "metadata": {},
   "outputs": [],
   "source": []
  },
  {
   "cell_type": "code",
   "execution_count": 370,
   "metadata": {},
   "outputs": [],
   "source": [
    "model = Sequential([\n",
    "    layers.Embedding(100, 20, input_length=max_length),\n",
    "    layers.Flatten(),\n",
    "    layers.Dense(1, activation='sigmoid')\n",
    "])"
   ]
  },
  {
   "cell_type": "code",
   "execution_count": 373,
   "metadata": {},
   "outputs": [
    {
     "name": "stdout",
     "output_type": "stream",
     "text": [
      "Model: \"sequential_5\"\n",
      "_________________________________________________________________\n",
      "Layer (type)                 Output Shape              Param #   \n",
      "=================================================================\n",
      "embedding_4 (Embedding)      (None, 601, 20)           2000      \n",
      "_________________________________________________________________\n",
      "flatten_4 (Flatten)          (None, 12020)             0         \n",
      "_________________________________________________________________\n",
      "dense_4 (Dense)              (None, 1)                 12021     \n",
      "=================================================================\n",
      "Total params: 14,021\n",
      "Trainable params: 14,021\n",
      "Non-trainable params: 0\n",
      "_________________________________________________________________\n",
      "None\n"
     ]
    }
   ],
   "source": [
    "model.compile(optimizer='adam', loss='binary_crossentropy', metrics=['acc'])\n",
    "print(model.summary())"
   ]
  },
  {
   "cell_type": "code",
   "execution_count": 374,
   "metadata": {
    "collapsed": true,
    "jupyter": {
     "outputs_hidden": true
    }
   },
   "outputs": [
    {
     "name": "stdout",
     "output_type": "stream",
     "text": [
      "Train on 20 samples\n",
      "Epoch 1/100\n",
      "20/20 [==============================] - 0s 19ms/sample - loss: 0.0085 - acc: 1.0000\n",
      "Epoch 2/100\n",
      "20/20 [==============================] - 0s 289us/sample - loss: 0.0075 - acc: 1.0000\n",
      "Epoch 3/100\n",
      "20/20 [==============================] - 0s 188us/sample - loss: 0.0066 - acc: 1.0000\n",
      "Epoch 4/100\n",
      "20/20 [==============================] - 0s 452us/sample - loss: 0.0059 - acc: 1.0000\n",
      "Epoch 5/100\n",
      "20/20 [==============================] - 0s 167us/sample - loss: 0.0052 - acc: 1.0000\n",
      "Epoch 6/100\n",
      "20/20 [==============================] - 0s 266us/sample - loss: 0.0046 - acc: 1.0000\n",
      "Epoch 7/100\n",
      "20/20 [==============================] - 0s 279us/sample - loss: 0.0041 - acc: 1.0000\n",
      "Epoch 8/100\n",
      "20/20 [==============================] - 0s 209us/sample - loss: 0.0036 - acc: 1.0000\n",
      "Epoch 9/100\n",
      "20/20 [==============================] - 0s 286us/sample - loss: 0.0032 - acc: 1.0000\n",
      "Epoch 10/100\n",
      "20/20 [==============================] - 0s 143us/sample - loss: 0.0028 - acc: 1.0000\n",
      "Epoch 11/100\n",
      "20/20 [==============================] - 0s 221us/sample - loss: 0.0025 - acc: 1.0000\n",
      "Epoch 12/100\n",
      "20/20 [==============================] - 0s 249us/sample - loss: 0.0022 - acc: 1.0000\n",
      "Epoch 13/100\n",
      "20/20 [==============================] - 0s 178us/sample - loss: 0.0020 - acc: 1.0000\n",
      "Epoch 14/100\n",
      "20/20 [==============================] - 0s 241us/sample - loss: 0.0018 - acc: 1.0000\n",
      "Epoch 15/100\n",
      "20/20 [==============================] - 0s 172us/sample - loss: 0.0016 - acc: 1.0000\n",
      "Epoch 16/100\n",
      "20/20 [==============================] - 0s 240us/sample - loss: 0.0014 - acc: 1.0000\n",
      "Epoch 17/100\n",
      "20/20 [==============================] - 0s 302us/sample - loss: 0.0013 - acc: 1.0000\n",
      "Epoch 18/100\n",
      "20/20 [==============================] - 0s 306us/sample - loss: 0.0012 - acc: 1.0000\n",
      "Epoch 19/100\n",
      "20/20 [==============================] - 0s 267us/sample - loss: 0.0011 - acc: 1.0000\n",
      "Epoch 20/100\n",
      "20/20 [==============================] - 0s 293us/sample - loss: 9.8615e-04 - acc: 1.0000\n",
      "Epoch 21/100\n",
      "20/20 [==============================] - 0s 295us/sample - loss: 9.0115e-04 - acc: 1.0000\n",
      "Epoch 22/100\n",
      "20/20 [==============================] - 0s 252us/sample - loss: 8.2599e-04 - acc: 1.0000\n",
      "Epoch 23/100\n",
      "20/20 [==============================] - 0s 271us/sample - loss: 7.5984e-04 - acc: 1.0000\n",
      "Epoch 24/100\n",
      "20/20 [==============================] - 0s 165us/sample - loss: 7.0166e-04 - acc: 1.0000\n",
      "Epoch 25/100\n",
      "20/20 [==============================] - 0s 205us/sample - loss: 6.5027e-04 - acc: 1.0000\n",
      "Epoch 26/100\n",
      "20/20 [==============================] - 0s 271us/sample - loss: 6.0456e-04 - acc: 1.0000\n",
      "Epoch 27/100\n",
      "20/20 [==============================] - 0s 186us/sample - loss: 5.6360e-04 - acc: 1.0000\n",
      "Epoch 28/100\n",
      "20/20 [==============================] - 0s 232us/sample - loss: 5.2669e-04 - acc: 1.0000\n",
      "Epoch 29/100\n",
      "20/20 [==============================] - 0s 267us/sample - loss: 4.9334e-04 - acc: 1.0000\n",
      "Epoch 30/100\n",
      "20/20 [==============================] - 0s 180us/sample - loss: 4.6318e-04 - acc: 1.0000\n",
      "Epoch 31/100\n",
      "20/20 [==============================] - 0s 225us/sample - loss: 4.3592e-04 - acc: 1.0000\n",
      "Epoch 32/100\n",
      "20/20 [==============================] - 0s 318us/sample - loss: 4.1130e-04 - acc: 1.0000\n",
      "Epoch 33/100\n",
      "20/20 [==============================] - 0s 160us/sample - loss: 3.8906e-04 - acc: 1.0000\n",
      "Epoch 34/100\n",
      "20/20 [==============================] - 0s 220us/sample - loss: 3.6895e-04 - acc: 1.0000\n",
      "Epoch 35/100\n",
      "20/20 [==============================] - 0s 182us/sample - loss: 3.5070e-04 - acc: 1.0000\n",
      "Epoch 36/100\n",
      "20/20 [==============================] - 0s 293us/sample - loss: 3.3407e-04 - acc: 1.0000\n",
      "Epoch 37/100\n",
      "20/20 [==============================] - 0s 347us/sample - loss: 3.1885e-04 - acc: 1.0000\n",
      "Epoch 38/100\n",
      "20/20 [==============================] - 0s 315us/sample - loss: 3.0488e-04 - acc: 1.0000\n",
      "Epoch 39/100\n",
      "20/20 [==============================] - 0s 192us/sample - loss: 2.9199e-04 - acc: 1.0000\n",
      "Epoch 40/100\n",
      "20/20 [==============================] - 0s 374us/sample - loss: 2.8008e-04 - acc: 1.0000\n",
      "Epoch 41/100\n",
      "20/20 [==============================] - 0s 314us/sample - loss: 2.6906e-04 - acc: 1.0000\n",
      "Epoch 42/100\n",
      "20/20 [==============================] - 0s 352us/sample - loss: 2.5885e-04 - acc: 1.0000\n",
      "Epoch 43/100\n",
      "20/20 [==============================] - 0s 227us/sample - loss: 2.4938e-04 - acc: 1.0000\n",
      "Epoch 44/100\n",
      "20/20 [==============================] - 0s 427us/sample - loss: 2.4059e-04 - acc: 1.0000\n",
      "Epoch 45/100\n",
      "20/20 [==============================] - 0s 347us/sample - loss: 2.3243e-04 - acc: 1.0000\n",
      "Epoch 46/100\n",
      "20/20 [==============================] - 0s 452us/sample - loss: 2.2483e-04 - acc: 1.0000\n",
      "Epoch 47/100\n",
      "20/20 [==============================] - 0s 280us/sample - loss: 2.1774e-04 - acc: 1.0000\n",
      "Epoch 48/100\n",
      "20/20 [==============================] - 0s 377us/sample - loss: 2.1111e-04 - acc: 1.0000\n",
      "Epoch 49/100\n",
      "20/20 [==============================] - 0s 331us/sample - loss: 2.0490e-04 - acc: 1.0000\n",
      "Epoch 50/100\n",
      "20/20 [==============================] - 0s 339us/sample - loss: 1.9906e-04 - acc: 1.0000\n",
      "Epoch 51/100\n",
      "20/20 [==============================] - 0s 262us/sample - loss: 1.9356e-04 - acc: 1.0000\n",
      "Epoch 52/100\n",
      "20/20 [==============================] - 0s 380us/sample - loss: 1.8836e-04 - acc: 1.0000\n",
      "Epoch 53/100\n",
      "20/20 [==============================] - 0s 330us/sample - loss: 1.8345e-04 - acc: 1.0000\n",
      "Epoch 54/100\n",
      "20/20 [==============================] - 0s 289us/sample - loss: 1.7880e-04 - acc: 1.0000\n",
      "Epoch 55/100\n",
      "20/20 [==============================] - 0s 227us/sample - loss: 1.7438e-04 - acc: 1.0000\n",
      "Epoch 56/100\n",
      "20/20 [==============================] - 0s 200us/sample - loss: 1.7019e-04 - acc: 1.0000\n",
      "Epoch 57/100\n",
      "20/20 [==============================] - 0s 179us/sample - loss: 1.6621e-04 - acc: 1.0000\n",
      "Epoch 58/100\n",
      "20/20 [==============================] - 0s 223us/sample - loss: 1.6242e-04 - acc: 1.0000\n",
      "Epoch 59/100\n",
      "20/20 [==============================] - 0s 250us/sample - loss: 1.5881e-04 - acc: 1.0000\n",
      "Epoch 60/100\n",
      "20/20 [==============================] - 0s 209us/sample - loss: 1.5537e-04 - acc: 1.0000\n",
      "Epoch 61/100\n",
      "20/20 [==============================] - 0s 268us/sample - loss: 1.5208e-04 - acc: 1.0000\n",
      "Epoch 62/100\n",
      "20/20 [==============================] - 0s 186us/sample - loss: 1.4893e-04 - acc: 1.0000\n",
      "Epoch 63/100\n",
      "20/20 [==============================] - 0s 266us/sample - loss: 1.4592e-04 - acc: 1.0000\n",
      "Epoch 64/100\n",
      "20/20 [==============================] - 0s 295us/sample - loss: 1.4303e-04 - acc: 1.0000\n",
      "Epoch 65/100\n",
      "20/20 [==============================] - 0s 244us/sample - loss: 1.4025e-04 - acc: 1.0000\n",
      "Epoch 66/100\n",
      "20/20 [==============================] - 0s 142us/sample - loss: 1.3758e-04 - acc: 1.0000\n",
      "Epoch 67/100\n",
      "20/20 [==============================] - 0s 208us/sample - loss: 1.3501e-04 - acc: 1.0000\n",
      "Epoch 68/100\n",
      "20/20 [==============================] - 0s 244us/sample - loss: 1.3253e-04 - acc: 1.0000\n",
      "Epoch 69/100\n",
      "20/20 [==============================] - 0s 212us/sample - loss: 1.3013e-04 - acc: 1.0000\n",
      "Epoch 70/100\n",
      "20/20 [==============================] - 0s 195us/sample - loss: 1.2782e-04 - acc: 1.0000\n",
      "Epoch 71/100\n",
      "20/20 [==============================] - 0s 196us/sample - loss: 1.2559e-04 - acc: 1.0000\n",
      "Epoch 72/100\n",
      "20/20 [==============================] - 0s 143us/sample - loss: 1.2343e-04 - acc: 1.0000\n",
      "Epoch 73/100\n",
      "20/20 [==============================] - 0s 234us/sample - loss: 1.2134e-04 - acc: 1.0000\n",
      "Epoch 74/100\n",
      "20/20 [==============================] - 0s 252us/sample - loss: 1.1932e-04 - acc: 1.0000\n",
      "Epoch 75/100\n",
      "20/20 [==============================] - 0s 235us/sample - loss: 1.1736e-04 - acc: 1.0000\n",
      "Epoch 76/100\n",
      "20/20 [==============================] - 0s 208us/sample - loss: 1.1546e-04 - acc: 1.0000\n",
      "Epoch 77/100\n",
      "20/20 [==============================] - 0s 188us/sample - loss: 1.1362e-04 - acc: 1.0000\n",
      "Epoch 78/100\n",
      "20/20 [==============================] - 0s 227us/sample - loss: 1.1182e-04 - acc: 1.0000\n",
      "Epoch 79/100\n",
      "20/20 [==============================] - 0s 250us/sample - loss: 1.1008e-04 - acc: 1.0000\n",
      "Epoch 80/100\n",
      "20/20 [==============================] - 0s 287us/sample - loss: 1.0839e-04 - acc: 1.0000\n",
      "Epoch 81/100\n",
      "20/20 [==============================] - 0s 238us/sample - loss: 1.0674e-04 - acc: 1.0000\n",
      "Epoch 82/100\n",
      "20/20 [==============================] - 0s 212us/sample - loss: 1.0514e-04 - acc: 1.0000\n",
      "Epoch 83/100\n",
      "20/20 [==============================] - 0s 218us/sample - loss: 1.0358e-04 - acc: 1.0000\n",
      "Epoch 84/100\n",
      "20/20 [==============================] - 0s 242us/sample - loss: 1.0206e-04 - acc: 1.0000\n",
      "Epoch 85/100\n",
      "20/20 [==============================] - 0s 352us/sample - loss: 1.0058e-04 - acc: 1.0000\n",
      "Epoch 86/100\n",
      "20/20 [==============================] - 0s 276us/sample - loss: 9.9129e-05 - acc: 1.0000\n",
      "Epoch 87/100\n",
      "20/20 [==============================] - 0s 305us/sample - loss: 9.7717e-05 - acc: 1.0000\n",
      "Epoch 88/100\n",
      "20/20 [==============================] - 0s 346us/sample - loss: 9.6340e-05 - acc: 1.0000\n",
      "Epoch 89/100\n",
      "20/20 [==============================] - 0s 326us/sample - loss: 9.4995e-05 - acc: 1.0000\n",
      "Epoch 90/100\n",
      "20/20 [==============================] - 0s 339us/sample - loss: 9.3681e-05 - acc: 1.0000\n",
      "Epoch 91/100\n",
      "20/20 [==============================] - 0s 412us/sample - loss: 9.2397e-05 - acc: 1.0000\n",
      "Epoch 92/100\n",
      "20/20 [==============================] - 0s 386us/sample - loss: 9.1143e-05 - acc: 1.0000\n",
      "Epoch 93/100\n",
      "20/20 [==============================] - 0s 393us/sample - loss: 8.9917e-05 - acc: 1.0000\n",
      "Epoch 94/100\n",
      "20/20 [==============================] - 0s 403us/sample - loss: 8.8717e-05 - acc: 1.0000\n",
      "Epoch 95/100\n",
      "20/20 [==============================] - 0s 326us/sample - loss: 8.7544e-05 - acc: 1.0000\n",
      "Epoch 96/100\n",
      "20/20 [==============================] - 0s 210us/sample - loss: 8.6396e-05 - acc: 1.0000\n",
      "Epoch 97/100\n",
      "20/20 [==============================] - 0s 228us/sample - loss: 8.5273e-05 - acc: 1.0000\n",
      "Epoch 98/100\n",
      "20/20 [==============================] - 0s 208us/sample - loss: 8.4173e-05 - acc: 1.0000\n",
      "Epoch 99/100\n",
      "20/20 [==============================] - 0s 210us/sample - loss: 8.3095e-05 - acc: 1.0000\n",
      "Epoch 100/100\n",
      "20/20 [==============================] - 0s 208us/sample - loss: 8.2040e-05 - acc: 1.0000\n"
     ]
    }
   ],
   "source": [
    "model.fit(X_train, y_train, epochs=100, verbose=1)\n",
    "sys.stdout.flush()"
   ]
  },
  {
   "cell_type": "code",
   "execution_count": 376,
   "metadata": {},
   "outputs": [
    {
     "name": "stdout",
     "output_type": "stream",
     "text": [
      "Accuracy: 100.000000\n"
     ]
    }
   ],
   "source": [
    "loss, accuracy = model.evaluate(X_train, y_train, verbose=0)\n",
    "print('Accuracy: %f' % (accuracy*100))"
   ]
  },
  {
   "cell_type": "code",
   "execution_count": null,
   "metadata": {},
   "outputs": [],
   "source": []
  }
 ],
 "metadata": {
  "kernelspec": {
   "display_name": "Python 3",
   "language": "python",
   "name": "python3"
  },
  "language_info": {
   "codemirror_mode": {
    "name": "ipython",
    "version": 3
   },
   "file_extension": ".py",
   "mimetype": "text/x-python",
   "name": "python",
   "nbconvert_exporter": "python",
   "pygments_lexer": "ipython3",
   "version": "3.7.5"
  }
 },
 "nbformat": 4,
 "nbformat_minor": 4
}
